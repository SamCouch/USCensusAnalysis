{
 "cells": [
  {
   "cell_type": "markdown",
   "metadata": {},
   "source": [
    "# Geospatial Visualisation of US Census Data"
   ]
  },
  {
   "cell_type": "markdown",
   "metadata": {},
   "source": [
    "This is the first in a series of notebooks explaining my learning process for completing a project in python. This project was based on US Census data provided by MuonNeutrino on kaggle (kaggle.com/muonneutrino/us-census-demographic-data). From this project I was able to visualise the county data on an interactive map, which was the subject of this first notebook. The second part used machine learning techniques to analyse the data, and is presented in the second notebook in this project. "
   ]
  },
  {
   "cell_type": "code",
   "execution_count": null,
   "metadata": {},
   "outputs": [],
   "source": [
    "#Initialisation Cell\n",
    "\n",
    "#Import Modules\n",
    "from urllib.request import urlopen\n",
    "import json\n",
    "import plotly.express as px\n",
    "import numpy as np\n",
    "import pandas as pd\n",
    "from sklearn.model_selection import train_test_split\n",
    "from sklearn.tree import DecisionTreeRegressor\n",
    "from sklearn.ensemble import RandomForestRegressor\n",
    "from sklearn.impute import SimpleImputer\n",
    "\n",
    "#Get data from github\n",
    "with urlopen('https://raw.githubusercontent.com/plotly/datasets/master/geojson-counties-fips.json') as response:\n",
    "    counties = json.load(response)\n",
    "url='https://raw.githubusercontent.com/SamCouch/USCensusAnalysis/master/data/acs2015_county_data.csv'\n",
    "\n",
    "#Read the csv\n",
    "f = pd.read_csv(url, error_bad_lines=False)\n"
   ]
  },
  {
   "cell_type": "markdown",
   "metadata": {},
   "source": [
    "So to visualise the data I needed some modules and data to plot the data on a map based on county ID. To do this I use some data I found on on the plotly website. (plotly.com/python/mapbox-county-choropleth/) This data was called in the initialisation cell."
   ]
  },
  {
   "cell_type": "code",
   "execution_count": null,
   "metadata": {},
   "outputs": [],
   "source": [
    "#Set focus value\n",
    "foval='Income'\n",
    "\n",
    "#Create figure\n",
    "fig = px.choropleth(f, geojson=counties, locations='CensusId', color=foval,\n",
    "                           color_continuous_scale=\"Viridis\",\n",
    "                           scope=\"usa\",\n",
    "                          )\n",
    "#Show figure\n",
    "fig.show()"
   ]
  },
  {
   "cell_type": "markdown",
   "metadata": {},
   "source": [
    "And, well that's not right. Not all the states are there.\n",
    "\n",
    "Upon looking at the data, I noticed that the states missing are the ones at the start of the list, which are the ones that the Census Id starts with 0. This was because the 0 was needed, but not included in the database.\n",
    "\n",
    "At first I tried editing the csv file itself in excel, but this didn't help, as pandas still saved the values without the zeros. This also had a tendency to mess with the file, changing around some of the characters.\n",
    "\n",
    "Instead the values were edited in the python code using pandas directly."
   ]
  },
  {
   "cell_type": "code",
   "execution_count": null,
   "metadata": {},
   "outputs": [],
   "source": [
    "#Format Census ID to have 5 digits\n",
    "f['CensusId']=f['CensusId'].apply(lambda x: '{0:0>5}'.format(x))\n",
    "\n",
    "#Set focus value\n",
    "foval='Income'\n",
    "\n",
    "#Create figure\n",
    "fig = px.choropleth(f, geojson=counties, locations='CensusId', color=foval,\n",
    "                           color_continuous_scale=\"Viridis\",\n",
    "                           scope=\"usa\",\n",
    "                          )\n",
    "#Show figure\n",
    "fig.show()"
   ]
  },
  {
   "cell_type": "markdown",
   "metadata": {},
   "source": [
    "That's looking better, however, I couldn't help but notice that there were still certain grey spots on the map. \n",
    "To make things easier to investigate, it would be better to have more information show up on the hover menu give more useful data. This can be changed quite easily."
   ]
  },
  {
   "cell_type": "code",
   "execution_count": null,
   "metadata": {},
   "outputs": [],
   "source": [
    "#Format Census ID to have 5 digits\n",
    "f['CensusId']=f['CensusId'].apply(lambda x: '{0:0>5}'.format(x))\n",
    "\n",
    "#Set focus value\n",
    "foval='Income'\n",
    "\n",
    "#Create figure\n",
    "fig = px.choropleth(f, geojson=counties, locations='CensusId', color=foval,\n",
    "                           color_continuous_scale=\"Viridis\",\n",
    "                           scope=\"usa\",\n",
    "                           labels={'County':foval},\n",
    "                           hover_name=\"County\",\n",
    "                           hover_data=[\"State\",\"CensusId\",foval]\n",
    "                          )\n",
    "#Show figure\n",
    "fig.show()"
   ]
  },
  {
   "cell_type": "markdown",
   "metadata": {},
   "source": [
    "That makes things easier to explore. Upon investigation it can be seen that the greey spots in Utah and Florida could be explained by lakes, but the ones in South Dakota, Texas, Virigina and some others couldn't be explained so easily. From what I can tell they seem to be counties that don't manage themselves and are unorganised, so likely were excluded from the census data I used.\n",
    "\n",
    "\n",
    "Now upon further examination there was a problem with the data in that a lot of the data was in raw values, rather than percentages. This means that maps of certain values tended to really just be population maps rather than maps which showing meaningful statistics."
   ]
  },
  {
   "cell_type": "code",
   "execution_count": null,
   "metadata": {},
   "outputs": [],
   "source": [
    "#Format Census ID to have 5 digits\n",
    "f['CensusId']=f['CensusId'].apply(lambda x: '{0:0>5}'.format(x))\n",
    "\n",
    "#Set focus values\n",
    "foval1='TotalPop'\n",
    "foval2='Men'\n",
    "\n",
    "#Create figures\n",
    "fig1 = px.choropleth(f, geojson=counties, locations='CensusId', color=foval1,\n",
    "                           color_continuous_scale=\"Viridis\",\n",
    "                           scope=\"usa\",\n",
    "                           labels={'County':foval1},\n",
    "                           hover_name=\"County\",\n",
    "                           hover_data=[\"State\",\"CensusId\",foval1]\n",
    "                          )\n",
    "fig2 = px.choropleth(f, geojson=counties, locations='CensusId', color=foval2,\n",
    "                           color_continuous_scale=\"Viridis\",\n",
    "                           scope=\"usa\",\n",
    "                           labels={'County':foval2},\n",
    "                           hover_name=\"County\",\n",
    "                           hover_data=[\"State\",\"CensusId\",foval2]\n",
    "                          )\n",
    "#Show figures\n",
    "fig1.show()\n",
    "fig2.show()"
   ]
  },
  {
   "cell_type": "markdown",
   "metadata": {},
   "source": [
    "This is not really the kind of statistic that is useful both for visualisations or data analysis. When wanting to know the amount of a value like men in a county, we are likely far more interested in the percentage of this value. To rectify this, we can divide the categories listing raw value by the total population."
   ]
  },
  {
   "cell_type": "code",
   "execution_count": null,
   "metadata": {},
   "outputs": [],
   "source": [
    "#Format Census ID to have 5 digits\n",
    "f['CensusId']=f['CensusId'].apply(lambda x: '{0:0>5}'.format(x))\n",
    "\n",
    "#Editing the data to transform into percentages\n",
    "f['Men']=round((f['Men']/f['TotalPop'])*100,2)\n",
    "f['Women']=round((f['Women']/f['TotalPop'])*100,2)\n",
    "f['Citizen']=round((f['Citizen']/f['TotalPop'])*100,2)\n",
    "f['Employed']=round((f['Employed']/f['TotalPop'])*100,2)\n",
    "\n",
    "#Set focus value\n",
    "foval='Men'\n",
    "\n",
    "#Create figure\n",
    "fig = px.choropleth(f, geojson=counties, locations='CensusId', color=foval,\n",
    "                           color_continuous_scale=\"Viridis\",\n",
    "                           scope=\"usa\",\n",
    "                           labels={'County':foval},\n",
    "                           hover_name=\"County\",\n",
    "                           hover_data=[\"State\",\"CensusId\",foval]\n",
    "                          )\n",
    "#Show figure\n",
    "fig.show()"
   ]
  },
  {
   "cell_type": "markdown",
   "metadata": {},
   "source": [
    "Now we are given a far more meaningful map, showing where there are higher proportions of men, rather than just the population of each county.\n",
    "\n",
    "There are other styles of map too, the following shows the whole world which is useful for this dataset in order to see Peurto Rico."
   ]
  },
  {
   "cell_type": "code",
   "execution_count": null,
   "metadata": {},
   "outputs": [],
   "source": [
    "#Format Census ID to have 5 digits\n",
    "f['CensusId']=f['CensusId'].apply(lambda x: '{0:0>5}'.format(x))\n",
    "\n",
    "#Set focus value\n",
    "foval='Poverty'\n",
    "\n",
    "#Create figure\n",
    "fig = px.choropleth_mapbox(f, geojson=counties, locations='CensusId', color=foval,\n",
    "                           color_continuous_scale=\"Viridis\",\n",
    "                           labels={'County':foval},\n",
    "                           hover_name=\"County\",\n",
    "                           hover_data=[\"State\",\"CensusId\",foval],\n",
    "                           mapbox_style=\"carto-positron\",\n",
    "                           zoom=2, center = {\"lat\": 45, \"lon\": -110},\n",
    "                           opacity=0.5,\n",
    "                          )\n",
    "#Show figure\n",
    "fig.show()"
   ]
  },
  {
   "cell_type": "markdown",
   "metadata": {},
   "source": [
    "With the visualisation of the data set done I wanted to next focus on analysing the census data using machine learning methods."
   ]
  }
 ],
 "metadata": {
  "kernelspec": {
   "display_name": "Python 3",
   "language": "python",
   "name": "python3"
  },
  "language_info": {
   "codemirror_mode": {
    "name": "ipython",
    "version": 3
   },
   "file_extension": ".py",
   "mimetype": "text/x-python",
   "name": "python",
   "nbconvert_exporter": "python",
   "pygments_lexer": "ipython3",
   "version": "3.7.4"
  }
 },
 "nbformat": 4,
 "nbformat_minor": 2
}
